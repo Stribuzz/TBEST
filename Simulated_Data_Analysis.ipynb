{
 "cells": [
  {
   "cell_type": "code",
   "execution_count": 13,
   "metadata": {
    "collapsed": true
   },
   "outputs": [],
   "source": [
    "\"\"\"\n",
    "Import modules\n",
    "\"\"\"\n",
    "\n",
    "import turlib as tp\n",
    "from fun_variance import nz_covariance\n",
    "import numpy as np\n",
    "import os\n",
    "import matplotlib\n",
    "import matplotlib.pyplot as plt\n",
    "import pandas as pd"
   ]
  },
  {
   "cell_type": "code",
   "execution_count": 14,
   "outputs": [],
   "source": [
    "'''\n",
    "Dictate the figure structure\n",
    "'''\n",
    "\n",
    "#sns.set_theme()\n",
    "font = {'family': 'Times New Roman', 'size': 22}\n",
    "matplotlib.rc('font', **font)"
   ],
   "metadata": {
    "collapsed": false
   }
  },
  {
   "cell_type": "code",
   "execution_count": 15,
   "outputs": [],
   "source": [
    "'''\n",
    "Load Control Matrix for reconstruction of pseudo-open modes\n",
    "'''\n",
    "\n",
    "G = pd.read_csv('G.csv', header=None)  # Gradient matrix\n",
    "G = np.asarray(G)\n",
    "Gc = G[1:16, :]  # first row is index"
   ],
   "metadata": {
    "collapsed": false
   }
  },
  {
   "cell_type": "code",
   "execution_count": 16,
   "outputs": [
    {
     "name": "stdout",
     "output_type": "stream",
     "text": [
      "Modes included in the fit:  [ 4  5  6  7  8  9 10 11 12 13 14 15]\n"
     ]
    }
   ],
   "source": [
    "hRadOrd = 4  # higher radial order in the fit\n",
    "lRadOrd = 2  # lower radial order in the fit\n",
    "mRO = 0  # nbr of last radial orders excluded from the fit\n",
    "modes_excluded = np.array([])  # Noll modes to exclud from the fit (focus)\n",
    "\n",
    "# modes to fit\n",
    "\n",
    "fRadOrds = np.arange(lRadOrd, hRadOrd + 1 - mRO)\n",
    "fModes = np.array([], dtype=int)\n",
    "for iRadOrd in range(fRadOrds.size):\n",
    "    fModes = np.append(fModes, tp.modes_of_radial_order(fRadOrds[iRadOrd]))\n",
    "\n",
    "print('Modes included in the fit: ',fModes)"
   ],
   "metadata": {
    "collapsed": false
   }
  },
  {
   "cell_type": "code",
   "execution_count": 18,
   "outputs": [],
   "source": [
    "J = tp.n_modes_from_radial_order(hRadOrd) # What is the Maximum mode ?\n",
    "\n",
    "# Diameter of the ATs in the VLTI\n",
    "D = 1.8\n",
    "\n",
    "# Size of the matrix for the calculation of the cross-talk matrix\n",
    "M = 30\n",
    "\n",
    "# Fitted gradient columns\n",
    "Gf = G.T[:, 1:J + 1]\n",
    "\n",
    "# Pseudo inverse reconstructor\n",
    "inv_Gf = np.linalg.pinv(Gf)\n",
    "# Remaining gradient columns\n",
    "Gr = G.T[:, J + 1:M + 2]\n",
    "\n",
    "# cross-coupling matrix (As defined by Dai1996)\n",
    "c = np.matmul(inv_Gf, Gr)"
   ],
   "metadata": {
    "collapsed": false
   }
  },
  {
   "cell_type": "code",
   "execution_count": 23,
   "outputs": [],
   "source": [
    "# slopes data\n",
    "slopes_data = pd.read_csv('slopes_oopao.csv')\n",
    "slopes_data = np.asarray(slopes_data)\n",
    "\n",
    "# noise contribution - noise magnitude obtained from on-sky samples (N=50)\n",
    "noise_cont = 2e-7\n",
    "# measurement error contribution added to the slopes\n",
    "err = np.random.normal(0, noise_cont, slopes_data.shape)\n",
    "noise_slopes = slopes_data + err\n",
    "\n",
    "# Value of the r0 (Fried parameter) used for the generation of the slopes\n",
    "true_r0 = 0.136991 # [meters]\n",
    "\n",
    "# Estimation at 20 seconds, with 500 Hz loop rate\n",
    "time = int(20*500)\n",
    "\n",
    "zernike_c_noise_f = np.matmul(noise_slopes, np.linalg.pinv(Gc))[:time].T\n",
    "# removing piston, tip/tilt\n",
    "zernike_c_noise = zernike_c_noise_f[3:]\n",
    "\n",
    "bi2_noise = np.var(zernike_c_noise, axis=1)\n",
    "fusco_noise = tp.noise_variance(zernike_c_noise)\n",
    "recup_bi2 = bi2_noise - fusco_noise\n",
    "\n",
    "\n",
    "\"\"\"\n",
    "Fit the Zernike variances and compare results\n",
    "\"\"\"\n",
    "\n",
    "inv_Gf = np.linalg.pinv(Gc)\n",
    "\n",
    "#creating an appropriate vector for the function (padding piston, tip/tilt as 0s, since they are not included in the real telemetry)\n",
    "bi2_noise_extended = np.zeros(15)\n",
    "bi2_noise_extended[3:] = bi2_noise\n",
    "\n",
    "fusco_noise_extended = np.zeros(15)\n",
    "fusco_noise_extended[3:] = fusco_noise\n"
   ],
   "metadata": {
    "collapsed": false
   }
  },
  {
   "cell_type": "code",
   "execution_count": 24,
   "outputs": [
    {
     "name": "stdout",
     "output_type": "stream",
     "text": [
      "True r0 = 13.6991  [cm]\n",
      "5th iteration r0 = 13.935127053359922 [cm]\n",
      "0th iteration r0 = 14.705134279198637 [cm]\n",
      "Convergence bias to real r0 = 1.722938392740558 %\n"
     ]
    }
   ],
   "source": [
    "r0_v,L0_v,fitted_ai2 = tp.iterative_estimator(d = D, modes = fModes, ai2 = bi2_noise_extended, noise_estimate=  fusco_noise_extended, n_rec_modes=J, m=M, c_mat=c, full_vector=True, n_iter=5)\n",
    "\n",
    "print(r'True r0 =',true_r0*100,' [cm]')\n",
    "print(r'5th iteration r0 =', r0_v[-1]*100,'[cm]')\n",
    "print(r'0th iteration r0 =', r0_v[0]*100,'[cm]')\n",
    "print('Convergence bias to real r0 =', (r0_v[-1] - true_r0)/true_r0*100,'%')"
   ],
   "metadata": {
    "collapsed": false
   }
  },
  {
   "cell_type": "code",
   "execution_count": 26,
   "outputs": [],
   "source": [
    "mc_r0,mc_l0,r0_vector = tp.full_uncertainty_estimator(d = D, modes = fModes, ai2 = bi2_noise_extended, noise_estimate=fusco_noise_extended, n_rec_modes=J, m=M, c_mat=c, n_samples=50)"
   ],
   "metadata": {
    "collapsed": false
   }
  },
  {
   "cell_type": "code",
   "execution_count": 27,
   "outputs": [
    {
     "name": "stdout",
     "output_type": "stream",
     "text": [
      "True r0 = 13.6991  [cm]\n",
      "5th iteration r0 = 13.935127059712379 [cm] +- 1.283851375136811 %\n",
      "5th iteration L0 = 1535.4035890808543 [m] +- 32992.882962857235 %\n",
      "Convergence bias to real r0 = 1.722938439111907 %\n"
     ]
    }
   ],
   "source": [
    "print(r'True r0 =',true_r0*100,' [cm]')\n",
    "print(r'5th iteration r0 =', mc_r0[0]*100,'[cm] +-',mc_r0[-1]/mc_r0[0]*100,'%')\n",
    "print(r'5th iteration L0 =', mc_l0[0]*100,'[m] +-',mc_l0[-1]/mc_l0[0]*100,'%')\n",
    "print('Convergence bias to real r0 =', (mc_r0[0] - true_r0)/true_r0*100,'%')\n"
   ],
   "metadata": {
    "collapsed": false
   }
  },
  {
   "cell_type": "code",
   "execution_count": 30,
   "outputs": [
    {
     "data": {
      "text/plain": "Text(0, 0.5, 'Modal variance [rad$^2$]')"
     },
     "execution_count": 30,
     "metadata": {},
     "output_type": "execute_result"
    },
    {
     "data": {
      "text/plain": "<Figure size 720x504 with 1 Axes>",
      "image/png": "[encoded data removed]"
     },
     "metadata": {
      "needs_background": "light"
     },
     "output_type": "display_data"
    }
   ],
   "source": [
    "plt.figure(figsize=(10,7))\n",
    "\n",
    "plt.plot(fModes,bi2_noise, label = 'original variances')\n",
    "plt.plot(fModes,fitted_ai2, label = 'fitted variances')\n",
    "plt.plot(fModes,tp.nz_variance(r0_v[-1],L0_v[-1],D,J)[3:],'--')\n",
    "plt.legend()\n",
    "plt.yscale('log')\n",
    "plt.xlabel('Noll modes')\n",
    "plt.ylabel(r'Modal variance [rad$^2$]')"
   ],
   "metadata": {
    "collapsed": false
   }
  },
  {
   "cell_type": "code",
   "execution_count": null,
   "outputs": [],
   "source": [
    "plt.plot(r0_v)"
   ],
   "metadata": {
    "collapsed": false
   }
  },
  {
   "cell_type": "code",
   "execution_count": null,
   "outputs": [],
   "source": [],
   "metadata": {
    "collapsed": false
   }
  }
 ],
 "metadata": {
  "kernelspec": {
   "display_name": "Python 3",
   "language": "python",
   "name": "python3"
  },
  "language_info": {
   "codemirror_mode": {
    "name": "ipython",
    "version": 2
   },
   "file_extension": ".py",
   "mimetype": "text/x-python",
   "name": "python",
   "nbconvert_exporter": "python",
   "pygments_lexer": "ipython2",
   "version": "2.7.6"
  }
 },
 "nbformat": 4,
 "nbformat_minor": 0
}
